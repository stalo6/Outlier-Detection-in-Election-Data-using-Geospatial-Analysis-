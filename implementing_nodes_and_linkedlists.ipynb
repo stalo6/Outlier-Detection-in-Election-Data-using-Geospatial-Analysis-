{
  "nbformat": 4,
  "nbformat_minor": 0,
  "metadata": {
    "colab": {
      "provenance": [],
      "authorship_tag": "ABX9TyO5PnALj26CMgKTrHlWa1tK",
      "include_colab_link": true
    },
    "kernelspec": {
      "name": "python3",
      "display_name": "Python 3"
    },
    "language_info": {
      "name": "python"
    }
  },
  "cells": [
    {
      "cell_type": "markdown",
      "metadata": {
        "id": "view-in-github",
        "colab_type": "text"
      },
      "source": [
        "<a href=\"https://colab.research.google.com/github/stalo6/Outlier-Detection-in-Election-Data-using-Geospatial-Analysis-/blob/main/implementing_nodes_and_linkedlists.ipynb\" target=\"_parent\"><img src=\"https://colab.research.google.com/assets/colab-badge.svg\" alt=\"Open In Colab\"/></a>"
      ]
    },
    {
      "cell_type": "code",
      "source": [
        "class Node:\n",
        "  def __init__(self, data):\n",
        "    self.data = data\n",
        "    self.next = None"
      ],
      "metadata": {
        "id": "a2V5QfGF__rw"
      },
      "execution_count": null,
      "outputs": []
    },
    {
      "cell_type": "code",
      "source": [
        "class LinkedList:\n",
        "  def __init__(self):\n",
        "    self.head = None\n",
        "    self.tail = None\n",
        "\n",
        "  def insert_at_beginning(self,data):\n",
        "    new_node = Node(data)\n",
        "    if self.head:\n",
        "      new_node.next = self.head\n",
        "      self.head = new_node\n",
        "    else:\n",
        "      self.tail = new_node\n",
        "      self.head = new_node\n",
        "\n",
        "  def insert_at_end(self , data):\n",
        "    new_node = Node(data)\n",
        "    if self.head:\n",
        "      self.tail.next = new_node\n",
        "      self.tail = new_node\n",
        "    else:\n",
        "      self.head = new_node\n",
        "      self.tail = new_node\n",
        "\n",
        "  def search(self, data):\n",
        "    current_node = self.head\n",
        "    while current_node:\n",
        "      if current_node.data == data:\n",
        "        return True\n",
        "      else:\n",
        "       current_node = current_node.next\n",
        "    return False"
      ],
      "metadata": {
        "id": "MyCJ_-I-m2_a"
      },
      "execution_count": null,
      "outputs": []
    },
    {
      "cell_type": "code",
      "source": [
        "sushi_preparation = LinkedList()\n",
        "sushi_preparation.insert_at_end(\"prepare\")\n",
        "sushi_preparation.insert_at_end(\"roll\")\n",
        "sushi_preparation.insert_at_beginning(\"assemble\")"
      ],
      "metadata": {
        "id": "INgTljA_gPSh"
      },
      "execution_count": null,
      "outputs": []
    },
    {
      "cell_type": "code",
      "source": [
        "sushi_preparation.search(\"roll\")"
      ],
      "metadata": {
        "colab": {
          "base_uri": "https://localhost:8080/"
        },
        "id": "P2tRTqjuqUMw",
        "outputId": "5093f27c-f257-41f6-92ec-1687d5ee4f69"
      },
      "execution_count": null,
      "outputs": [
        {
          "output_type": "execute_result",
          "data": {
            "text/plain": [
              "True"
            ]
          },
          "metadata": {},
          "execution_count": 12
        }
      ]
    }
  ]
}